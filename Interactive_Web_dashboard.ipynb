{
  "metadata": {
    "language_info": {
      "codemirror_mode": {
        "name": "python",
        "version": 3
      },
      "file_extension": ".py",
      "mimetype": "text/x-python",
      "name": "python",
      "nbconvert_exporter": "python",
      "pygments_lexer": "ipython3",
      "version": "3.8"
    },
    "kernelspec": {
      "name": "python",
      "display_name": "Pyolite",
      "language": "python"
    }
  },
  "nbformat_minor": 4,
  "nbformat": 4,
  "cells": [
    {
      "cell_type": "code",
      "source": "# Import required libraries\nimport pandas as pd\nimport dash\nimport dash_html_components as html\nimport dash_core_components as dcc\nfrom dash.dependencies import Input, Output\nimport plotly.express as px\n\n# Read the airline data into pandas dataframe\nspacex_df = pd.read_csv(\"spacex_launch_dash.csv\") #make sure to have csv file in the same directory/path\nmax_payload = spacex_df['Payload Mass (kg)'].max()\nmin_payload = spacex_df['Payload Mass (kg)'].min()\n\n#spacex_df['class'] = spacex_df['class'].astype(int)\n#spacex_df = spacex_df.rename(columns={'class': 'Launch Outcome'})  \n\n# Create a dash application\napp = dash.Dash(__name__)\n# Create an app layout\napp.layout = html.Div(children=[html.H1('SpaceX Launch Records Dashboard',\n                                        style={'textAlign': 'center', 'color': '#503D36',\n                                               'font-size': 40}),\n                                # TASK 1: Add a dropdown list to enable Launch Site selection\n                                # The default select value is for ALL sites\n                                # dcc.Dropdown(id='site-dropdown',...)\n                                dcc.Dropdown(id='site-dropdown', options=[{'label': 'All Sites', 'value': 'ALL'},\n                                                                         {'label': 'CCAFS SLC-40', 'value': 'CCAFS SLC-40'},\n                                                                         {'label': 'CCAFS LC-40', 'value': 'CCAFS LC-40'},\n                                                                         {'label': 'VAFB SLC-4E', 'value': 'VAFB SLC-4E'},\n                                                                         {'label': 'KSC LC-39A', 'value': 'KSC LC-39A'}],\n                                                value = 'ALL',\n                                                placeholder = \"placeholder\",\n                                                searchable = True\n                                             ),\n                                html.Br(),\n\n                                # TASK 2: Add a pie chart to show the total successful launches count for all sites\n                                # If a specific launch site was selected, show the Success vs. Failed counts for the site\n                                html.Div(dcc.Graph(id='success-pie-chart')),\n                                html.Br(),\n\n                                html.P(\"Payload range (Kg):\"),\n                                # TASK 3: Add a slider to select payload range\n                                #dcc.RangeSlider(id='payload-slider',...)\n                                dcc.RangeSlider(id='payload-slider', \n                                                min=0, max=10000, step=1000, marks={0:'0', 100:'100'}, value=[min_payload, max_payload]\n                                                ),\n\n                                # TASK 4: Add a scatter chart to show the correlation between payload and launch success\n                                html.Div(dcc.Graph(id='success-payload-scatter-chart')),\n                                ])\n\n# TASK 2:\n# Add a callback function for `site-dropdown` as input, `success-pie-chart` as output\n@app.callback(\n                Output('success-pie-chart', 'figure'),\n                Input(component_id = 'site-dropdown', component_property = 'value')\n             )\ndef get_pie_chart(entered_site):\n    filtered_df = spacex_df\n    #print(filtered_df)\n    if entered_site == 'ALL':\n        fig = px.pie(filtered_df, values='class', names = 'Launch Site', title = 'title')\n        return fig\n    else:\n        filtered_df = spacex_df[spacex_df['Launch Site'] == entered_site]\n        #print(filtered_df)\n        success_count = filtered_df[filtered_df['class'] == 1].shape[0]\n        #print(success_count)\n        failure_count = filtered_df[filtered_df['class'] == 0].shape[0]\n        #print(failure_count)\n        fig = px.pie(\n            values=[success_count, failure_count],\n            names=['Success', 'Failure'],\n            title='Success vs Failure Launches for {}'.format(entered_site)\n        )\n        return fig\n\n\n# TASK 4:\n# Add a callback function for `site-dropdown` and `payload-slider` as inputs, `success-payload-scatter-chart` as output\n@app.callback(\n    Output('success-payload-scatter-chart', 'figure'),\n    [Input('payload-slider', 'value'),\n     Input('site-dropdown', 'value')]\n)\ndef get_scatter_plot(payload_range, entered_site):\n    filtered_df2 = spacex_df\n    if entered_site == 'ALL':\n        filtered_df2 = filtered_df2[(filtered_df2['Payload Mass (kg)'] >= payload_range[0]) & (filtered_df2['Payload Mass (kg)'] <= payload_range[1])]\n        fig = px.scatter(filtered_df2, x='Payload Mass (kg)', y='class', color='Booster Version Category', title='Scatter Plot')\n        return fig\n    else:\n        filtered_df2 = filtered_df2[(filtered_df2['Payload Mass (kg)'] >= payload_range[0]) & (filtered_df2['Payload Mass (kg)'] <= payload_range[1]) & (filtered_df2['Launch Site'] == entered_site)]\n        fig = px.scatter(filtered_df2, x='Payload Mass (kg)', y='class', color='Booster Version Category', title='Scatter Plot')\n        return fig\n\n\n# Run the app\nif __name__ == '__main__':\n    app.run_server()",
      "metadata": {},
      "execution_count": null,
      "outputs": []
    }
  ]
}